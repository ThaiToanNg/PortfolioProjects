{
 "cells": [
  {
   "cell_type": "markdown",
   "metadata": {
    "application/vnd.databricks.v1+cell": {
     "cellMetadata": {},
     "inputWidgets": {},
     "nuid": "090993b4-b94f-42b7-863f-ba2f1af6978a",
     "showTitle": false,
     "title": ""
    }
   },
   "source": [
    "You've been hired by a dog food company to try to predict why some batches of their dog food are spoiling much quicker than intended! Unfortunately this Dog Food company hasn't upgraded to the latest machinery, meaning that the amounts of the five preservative chemicals they are using can vary a lot, but which is the chemical that has the strongest effect? The dog food company first mixes up a batch of preservative that contains 4 different preservative chemicals (A,B,C,D) and then is completed with a \"filler\" chemical. The food scientists beelive one of the A,B,C, or D preservatives is causing the problem, but need your help to figure out which one! Use Machine Learning with RF to find out which parameter had the most predicitive power, thus finding out which chemical causes the early spoiling! So create a model and then find out how you can decide which chemical is the problem!\n"
   ]
  },
  {
   "cell_type": "code",
   "execution_count": 0,
   "metadata": {
    "application/vnd.databricks.v1+cell": {
     "cellMetadata": {
      "byteLimit": 2048000,
      "rowLimit": 10000
     },
     "inputWidgets": {},
     "nuid": "b38b18a8-23f7-4f12-8cb9-5bdfefc3324c",
     "showTitle": false,
     "title": ""
    }
   },
   "outputs": [],
   "source": [
    "import pyspark"
   ]
  },
  {
   "cell_type": "code",
   "execution_count": 0,
   "metadata": {
    "application/vnd.databricks.v1+cell": {
     "cellMetadata": {
      "byteLimit": 2048000,
      "rowLimit": 10000
     },
     "inputWidgets": {},
     "nuid": "b7dbdaf5-dd03-4435-a20e-0e0500bda64b",
     "showTitle": false,
     "title": ""
    }
   },
   "outputs": [],
   "source": [
    "df = spark.read.csv(\"/FileStore/tables/dog_food.csv\", inferSchema=True, header= True)"
   ]
  },
  {
   "cell_type": "code",
   "execution_count": 0,
   "metadata": {
    "application/vnd.databricks.v1+cell": {
     "cellMetadata": {
      "byteLimit": 2048000,
      "rowLimit": 10000
     },
     "inputWidgets": {},
     "nuid": "0422459d-3759-4d49-984b-52e1909eef4f",
     "showTitle": false,
     "title": ""
    }
   },
   "outputs": [
    {
     "output_type": "stream",
     "name": "stdout",
     "output_type": "stream",
     "text": [
      "root\n |-- A: integer (nullable = true)\n |-- B: integer (nullable = true)\n |-- C: double (nullable = true)\n |-- D: integer (nullable = true)\n |-- Spoiled: double (nullable = true)\n\n"
     ]
    }
   ],
   "source": [
    "df.printSchema()"
   ]
  },
  {
   "cell_type": "code",
   "execution_count": 0,
   "metadata": {
    "application/vnd.databricks.v1+cell": {
     "cellMetadata": {
      "byteLimit": 2048000,
      "rowLimit": 10000
     },
     "inputWidgets": {},
     "nuid": "5da0f3ab-c818-4058-8192-37d8f511075a",
     "showTitle": false,
     "title": ""
    }
   },
   "outputs": [
    {
     "output_type": "stream",
     "name": "stdout",
     "output_type": "stream",
     "text": [
      "Out[4]: ['A', 'B', 'C', 'D', 'Spoiled']"
     ]
    }
   ],
   "source": [
    "df.columns"
   ]
  },
  {
   "cell_type": "code",
   "execution_count": 0,
   "metadata": {
    "application/vnd.databricks.v1+cell": {
     "cellMetadata": {
      "byteLimit": 2048000,
      "rowLimit": 10000
     },
     "inputWidgets": {},
     "nuid": "91d5f2d2-4c71-41c4-a7d2-732b2c4a85e0",
     "showTitle": false,
     "title": ""
    }
   },
   "outputs": [],
   "source": [
    "from pyspark.ml.feature import VectorAssembler"
   ]
  },
  {
   "cell_type": "code",
   "execution_count": 0,
   "metadata": {
    "application/vnd.databricks.v1+cell": {
     "cellMetadata": {
      "byteLimit": 2048000,
      "rowLimit": 10000
     },
     "inputWidgets": {},
     "nuid": "742a2239-8038-449f-943c-2199f19c9d61",
     "showTitle": false,
     "title": ""
    }
   },
   "outputs": [],
   "source": [
    "assembler = VectorAssembler(inputCols=['A', 'B', 'C', 'D'], outputCol='features')"
   ]
  },
  {
   "cell_type": "code",
   "execution_count": 0,
   "metadata": {
    "application/vnd.databricks.v1+cell": {
     "cellMetadata": {
      "byteLimit": 2048000,
      "rowLimit": 10000
     },
     "inputWidgets": {},
     "nuid": "001d3a33-3288-401f-ab18-ee6fbe2e6d99",
     "showTitle": false,
     "title": ""
    }
   },
   "outputs": [],
   "source": [
    "df = assembler.transform(df)"
   ]
  },
  {
   "cell_type": "code",
   "execution_count": 0,
   "metadata": {
    "application/vnd.databricks.v1+cell": {
     "cellMetadata": {
      "byteLimit": 2048000,
      "rowLimit": 10000
     },
     "inputWidgets": {},
     "nuid": "52a95f1b-c657-4031-97af-2220ec2a9c97",
     "showTitle": false,
     "title": ""
    }
   },
   "outputs": [
    {
     "output_type": "stream",
     "name": "stdout",
     "output_type": "stream",
     "text": [
      "+---+---+----+---+-------+-------------------+\n|  A|  B|   C|  D|Spoiled|           features|\n+---+---+----+---+-------+-------------------+\n|  4|  2|12.0|  3|    1.0| [4.0,2.0,12.0,3.0]|\n|  5|  6|12.0|  7|    1.0| [5.0,6.0,12.0,7.0]|\n|  6|  2|13.0|  6|    1.0| [6.0,2.0,13.0,6.0]|\n|  4|  2|12.0|  1|    1.0| [4.0,2.0,12.0,1.0]|\n|  4|  2|12.0|  3|    1.0| [4.0,2.0,12.0,3.0]|\n| 10|  3|13.0|  9|    1.0|[10.0,3.0,13.0,9.0]|\n|  8|  5|14.0|  5|    1.0| [8.0,5.0,14.0,5.0]|\n|  5|  8|12.0|  8|    1.0| [5.0,8.0,12.0,8.0]|\n|  6|  5|12.0|  9|    1.0| [6.0,5.0,12.0,9.0]|\n|  3|  3|12.0|  1|    1.0| [3.0,3.0,12.0,1.0]|\n|  9|  8|11.0|  3|    1.0| [9.0,8.0,11.0,3.0]|\n|  1| 10|12.0|  3|    1.0|[1.0,10.0,12.0,3.0]|\n|  1|  5|13.0| 10|    1.0|[1.0,5.0,13.0,10.0]|\n|  2| 10|12.0|  6|    1.0|[2.0,10.0,12.0,6.0]|\n|  1| 10|11.0|  4|    1.0|[1.0,10.0,11.0,4.0]|\n|  5|  3|12.0|  2|    1.0| [5.0,3.0,12.0,2.0]|\n|  4|  9|11.0|  8|    1.0| [4.0,9.0,11.0,8.0]|\n|  5|  1|11.0|  1|    1.0| [5.0,1.0,11.0,1.0]|\n|  4|  9|12.0| 10|    1.0|[4.0,9.0,12.0,10.0]|\n|  5|  8|10.0|  9|    1.0| [5.0,8.0,10.0,9.0]|\n+---+---+----+---+-------+-------------------+\nonly showing top 20 rows\n\n"
     ]
    }
   ],
   "source": [
    "df.show()"
   ]
  },
  {
   "cell_type": "code",
   "execution_count": 0,
   "metadata": {
    "application/vnd.databricks.v1+cell": {
     "cellMetadata": {
      "byteLimit": 2048000,
      "rowLimit": 10000
     },
     "inputWidgets": {},
     "nuid": "6698fd73-8646-4fb2-ae9e-3d6c927cdbf3",
     "showTitle": false,
     "title": ""
    }
   },
   "outputs": [],
   "source": [
    "data = df.select(['features', 'Spoiled'])"
   ]
  },
  {
   "cell_type": "code",
   "execution_count": 0,
   "metadata": {
    "application/vnd.databricks.v1+cell": {
     "cellMetadata": {
      "byteLimit": 2048000,
      "rowLimit": 10000
     },
     "inputWidgets": {},
     "nuid": "378d8694-7ff5-4a2b-83de-ef75e877fd6c",
     "showTitle": false,
     "title": ""
    }
   },
   "outputs": [],
   "source": [
    "from pyspark.ml.classification import RandomForestClassifier"
   ]
  },
  {
   "cell_type": "code",
   "execution_count": 0,
   "metadata": {
    "application/vnd.databricks.v1+cell": {
     "cellMetadata": {
      "byteLimit": 2048000,
      "rowLimit": 10000
     },
     "inputWidgets": {},
     "nuid": "cbd239fa-b713-4e47-9b07-18f29db894b8",
     "showTitle": false,
     "title": ""
    }
   },
   "outputs": [],
   "source": [
    "rfc = RandomForestClassifier(labelCol='Spoiled')"
   ]
  },
  {
   "cell_type": "code",
   "execution_count": 0,
   "metadata": {
    "application/vnd.databricks.v1+cell": {
     "cellMetadata": {
      "byteLimit": 2048000,
      "rowLimit": 10000
     },
     "inputWidgets": {},
     "nuid": "ae3366f2-4da3-4fff-ada9-07e17f8db691",
     "showTitle": false,
     "title": ""
    }
   },
   "outputs": [],
   "source": [
    "rfc_model = rfc.fit(data)"
   ]
  },
  {
   "cell_type": "code",
   "execution_count": 0,
   "metadata": {
    "application/vnd.databricks.v1+cell": {
     "cellMetadata": {
      "byteLimit": 2048000,
      "rowLimit": 10000
     },
     "inputWidgets": {},
     "nuid": "56f7ff76-9240-4355-a2be-d10dfc4dcc63",
     "showTitle": false,
     "title": ""
    }
   },
   "outputs": [
    {
     "output_type": "stream",
     "name": "stdout",
     "output_type": "stream",
     "text": [
      "The percentage of each component by index: (4,[0,1,2,3],[0.018860403897233327,0.014132496705612263,0.9383533586860724,0.028653740711082027])\nThe component that matters the most in spoiling is at index 2, with an importance of 0.9383533586860724\n"
     ]
    }
   ],
   "source": [
    "print(f\"The percentage of each component by index: {rfc_model.featureImportances}\")\n",
    "print(f\"The component that matters the most in spoiling is at index {rfc_model.featureImportances.indices[2]}, with an importance of {feature}\")"
   ]
  },
  {
   "cell_type": "code",
   "execution_count": 0,
   "metadata": {
    "application/vnd.databricks.v1+cell": {
     "cellMetadata": {
      "byteLimit": 2048000,
      "rowLimit": 10000
     },
     "inputWidgets": {},
     "nuid": "1fde0a76-7273-424d-85ca-299fd2c89781",
     "showTitle": false,
     "title": ""
    }
   },
   "outputs": [],
   "source": [
    "feature = rfc_model.featureImportances[2]"
   ]
  },
  {
   "cell_type": "code",
   "execution_count": 0,
   "metadata": {
    "application/vnd.databricks.v1+cell": {
     "cellMetadata": {
      "byteLimit": 2048000,
      "rowLimit": 10000
     },
     "inputWidgets": {},
     "nuid": "129e4271-4afe-42be-b714-7c57459aec9b",
     "showTitle": false,
     "title": ""
    }
   },
   "outputs": [
    {
     "output_type": "stream",
     "name": "stdout",
     "output_type": "stream",
     "text": [
      "Out[25]: 0.9383533586860724"
     ]
    }
   ],
   "source": [
    "feature"
   ]
  }
 ],
 "metadata": {
  "application/vnd.databricks.v1+notebook": {
   "dashboards": [],
   "environmentMetadata": null,
   "language": "python",
   "notebookMetadata": {
    "pythonIndentUnit": 4
   },
   "notebookName": "Random Forest Classification Consulting Project",
   "widgets": {}
  }
 },
 "nbformat": 4,
 "nbformat_minor": 0
}
